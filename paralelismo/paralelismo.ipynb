{
 "cells": [
  {
   "cell_type": "code",
   "execution_count": 20,
   "metadata": {},
   "outputs": [],
   "source": [
    "import pandas as pd\n",
    "import subprocess\n",
    "import time\n",
    "import os"
   ]
  },
  {
   "cell_type": "code",
   "execution_count": 21,
   "metadata": {},
   "outputs": [],
   "source": [
    "QUANTIDADE_ARQUIVOS = 10\n",
    "\n",
    "DF = pd.DataFrame({\n",
    "    \"Produto\": [\"TV\", \"Playstation\", \"Celular\", \"Tablet\"],\n",
    "    \"Preco\": [2599.99, 4999.00, 1399.99, 1450.00]\n",
    "})"
   ]
  },
  {
   "cell_type": "code",
   "execution_count": 22,
   "metadata": {},
   "outputs": [],
   "source": [
    "def gerar_arquivos(quantidade: int = QUANTIDADE_ARQUIVOS) -> None:\n",
    "    for i in range(quantidade):\n",
    "        DF.to_csv(f\"arquivo_{i}.csv\")\n",
    "\n",
    "def excluir_arquivos():\n",
    "    subprocess.run(\"rm -f *.csv\", shell=True)"
   ]
  },
  {
   "cell_type": "code",
   "execution_count": 23,
   "metadata": {},
   "outputs": [],
   "source": [
    "# Gerando arquivos\n",
    "gerar_arquivos()"
   ]
  },
  {
   "cell_type": "code",
   "execution_count": 24,
   "metadata": {},
   "outputs": [
    {
     "name": "stdout",
     "output_type": "stream",
     "text": [
      "Valor total é:  10448.98\n",
      "Valor total é:  10448.98\n",
      "Valor total é:  10448.98\n",
      "Valor total é:  10448.98\n",
      "Valor total é:  10448.98\n",
      "Valor total é:  10448.98\n",
      "Valor total é:  10448.98\n",
      "Valor total é:  10448.98\n",
      "Valor total é:  10448.98\n",
      "Valor total é:  10448.98\n",
      "FIM EXEC: 0.019392013549804688\n"
     ]
    }
   ],
   "source": [
    "# Código original\n",
    "inicio = time.time()\n",
    "\n",
    "arquivos = os.listdir()\n",
    "for arquivo in arquivos:\n",
    "    if arquivo.endswith(\".csv\"):\n",
    "        tabela = pd.read_csv(arquivo)\n",
    "        total = tabela[\"Preco\"].sum()\n",
    "        print(\"Valor total é: \", total)\n",
    "\n",
    "print(f\"FIM EXEC: {time.time() - inicio}\")"
   ]
  },
  {
   "cell_type": "code",
   "execution_count": 25,
   "metadata": {},
   "outputs": [
    {
     "name": "stdout",
     "output_type": "stream",
     "text": [
      "['Valor total é: 10448.98', None, 'Valor total é: 10448.98', 'Valor total é: 10448.98', 'Valor total é: 10448.98', 'Valor total é: 10448.98', 'Valor total é: 10448.98', 'Valor total é: 10448.98', 'Valor total é: 10448.98', 'Valor total é: 10448.98', 'Valor total é: 10448.98']\n",
      "FIM EXEC: 3.02856707572937\n"
     ]
    }
   ],
   "source": [
    "from joblib import Parallel, delayed\n",
    "\n",
    "inicio = time.time()\n",
    "\n",
    "arquivos = os.listdir()\n",
    "\n",
    "def calcular_preco_total(arquivo: str):\n",
    "    if arquivo.endswith(\".csv\"):\n",
    "        tabela = pd.read_csv(arquivo)\n",
    "        total = tabela[\"Preco\"].sum()\n",
    "        # Print nao funciona em parelelo\n",
    "        # print(\"Valor total é: \", total)\n",
    "        return f\"Valor total é: {total}\"\n",
    "\n",
    "resultado = Parallel(n_jobs=2)(delayed(calcular_preco_total)(arquivo) for arquivo in arquivos)\n",
    "print(resultado)\n",
    "print(f\"FIM EXEC: {time.time() - inicio}\")"
   ]
  },
  {
   "cell_type": "markdown",
   "metadata": {},
   "source": [
    "#### Paralelismo\n",
    "\n",
    "Para funções rápidas, de alguns segundos não compensa usar multiprocessamento, mas para jobs que levam meia hora, talvez valha"
   ]
  },
  {
   "cell_type": "markdown",
   "metadata": {},
   "source": [
    "Threading (para tarefas I/O-bound):\n",
    "Para tarefas que dependem fortemente de operações de entrada e saída (I/O-bound), como leitura de arquivos ou chamadas de rede, o uso de threads pode ser mais eficaz."
   ]
  },
  {
   "cell_type": "code",
   "execution_count": 26,
   "metadata": {},
   "outputs": [
    {
     "name": "stdout",
     "output_type": "stream",
     "text": [
      "['Valor total é: 10448.98', None, 'Valor total é: 10448.98', 'Valor total é: 10448.98', 'Valor total é: 10448.98', 'Valor total é: 10448.98', 'Valor total é: 10448.98', 'Valor total é: 10448.98', 'Valor total é: 10448.98', 'Valor total é: 10448.98', 'Valor total é: 10448.98']\n",
      "FIM EXEC: 0.028217077255249023\n"
     ]
    }
   ],
   "source": [
    "from concurrent.futures import ThreadPoolExecutor\n",
    "\n",
    "inicio = time.time()\n",
    "\n",
    "def calcular_preco_total(arquivo: str):\n",
    "    if arquivo.endswith(\".csv\"):\n",
    "        tabela = pd.read_csv(arquivo)\n",
    "        total = tabela[\"Preco\"].sum()\n",
    "        return f\"Valor total é: {total}\"\n",
    "\n",
    "with ThreadPoolExecutor(max_workers=2) as executor:\n",
    "    resultados = list(executor.map(calcular_preco_total, arquivos))\n",
    "\n",
    "print(resultados)\n",
    "print(f\"FIM EXEC: {time.time() - inicio}\")"
   ]
  },
  {
   "cell_type": "markdown",
   "metadata": {},
   "source": [
    "Multiprocessing (para tarefas CPU-bound):\n",
    "Para tarefas que consomem muito CPU (CPU-bound), como cálculos intensivos, a biblioteca multiprocessing pode ser uma escolha melhor, já que ela cria processos separados que podem usar múltiplos núcleos.\n",
    "\n",
    "O código abaixo iria funcionar melhor em  um script .py, no jupyter ele não esta conseguindo serializar a função calcular_preco_total"
   ]
  },
  {
   "cell_type": "code",
   "execution_count": 27,
   "metadata": {},
   "outputs": [],
   "source": [
    "\n",
    "\n",
    "# from multiprocessing import Pool\n",
    "\n",
    "# inicio = time.time()\n",
    "\n",
    "# def calcular_preco_total(arquivo: str):\n",
    "#     if arquivo.endswith(\".csv\"):\n",
    "#         tabela = pd.read_csv(arquivo)\n",
    "#         total = tabela[\"Preco\"].sum()\n",
    "#         return f\"Valor total é: {total}\"\n",
    "\n",
    "# with Pool(processes=2) as pool:\n",
    "#     resultados = pool.map(calcular_preco_total, arquivos)\n",
    "\n",
    "# print(resultados)\n",
    "# print(f\"FIM EXEC: {time.time() - inicio}\")\n"
   ]
  },
  {
   "cell_type": "code",
   "execution_count": 28,
   "metadata": {},
   "outputs": [],
   "source": [
    "## Excluir Arquivos\n",
    "excluir_arquivos()"
   ]
  }
 ],
 "metadata": {
  "kernelspec": {
   "display_name": ".venv",
   "language": "python",
   "name": "python3"
  },
  "language_info": {
   "codemirror_mode": {
    "name": "ipython",
    "version": 3
   },
   "file_extension": ".py",
   "mimetype": "text/x-python",
   "name": "python",
   "nbconvert_exporter": "python",
   "pygments_lexer": "ipython3",
   "version": "3.12.2"
  }
 },
 "nbformat": 4,
 "nbformat_minor": 2
}
