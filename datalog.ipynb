{
 "cells": [
  {
   "cell_type": "code",
   "execution_count": 5,
   "metadata": {},
   "outputs": [],
   "source": [
    "from pyDatalog import pyDatalog"
   ]
  },
  {
   "cell_type": "code",
   "execution_count": 7,
   "metadata": {},
   "outputs": [],
   "source": [
    "pyDatalog.create_terms(\"Urso,Elefante,Gato,Cinza,Marron,Preto,Grande,Pequeno,Cor,Tamanho,X\")\n"
   ]
  },
  {
   "cell_type": "code",
   "execution_count": 14,
   "metadata": {},
   "outputs": [
    {
     "name": "stdout",
     "output_type": "stream",
     "text": [
      "X   \n",
      "----\n",
      "Urso\n"
     ]
    }
   ],
   "source": [
    "+Tamanho(\"Urso\", \"Grande\")\n",
    "+Tamanho(\"Elefante\", \"Grande\")\n",
    "+Tamanho(\"Gato\", \"Pequeno\")\n",
    "+Cor(\"Urso\", \"Marron\")\n",
    "+Cor(\"Elefante\", \"Cinza\")\n",
    "+Cor(\"Gato\", \"Preto\")\n",
    "\n",
    "Preto(X) <= (Cor(X, \"Preto\"))\n",
    "Preto(X) <= (Cor(X, \"Marron\"))\n",
    "\n",
    "print(Preto(X) & (Tamanho(X, \"Grande\")))"
   ]
  },
  {
   "cell_type": "code",
   "execution_count": 27,
   "metadata": {},
   "outputs": [
    {
     "name": "stdout",
     "output_type": "stream",
     "text": [
      "X | N      \n",
      "--|--------\n",
      "3 | Charlie\n",
      "2 | Bob    \n"
     ]
    }
   ],
   "source": [
    "from pyDatalog import pyDatalog\n",
    "\n",
    "# Setup PyDatalog\n",
    "pyDatalog.create_terms('emp_name, emp_dept, dept_name, emp_in_dept, X, N, D')\n",
    "\n",
    "# Load data into PyDatalog\n",
    "+emp_name(1, 'Alice')\n",
    "+emp_name(2, 'Bob')\n",
    "+emp_name(3, 'Charlie')\n",
    "+emp_name(4, 'David')\n",
    "\n",
    "+emp_dept(1, 1)\n",
    "+emp_dept(2, 2)\n",
    "+emp_dept(3, 2)\n",
    "+emp_dept(4, 3)\n",
    "\n",
    "+dept_name(1, 'HR')\n",
    "+dept_name(2, 'Engineering')\n",
    "+dept_name(3, 'Marketing')\n",
    "\n",
    "# Define rules in PyDatalog\n",
    "pyDatalog.load(\"\"\"\n",
    "    emp_in_dept(X, N) <= emp_name(X, N) & emp_dept(X, D) & dept_name(D, 'Engineering')\n",
    "\"\"\")\n",
    "\n",
    "# Fetch employees in the Engineering department\n",
    "result = emp_in_dept(X, N)\n",
    "\n",
    "print(result)\n"
   ]
  }
 ],
 "metadata": {
  "kernelspec": {
   "display_name": ".venv",
   "language": "python",
   "name": "python3"
  },
  "language_info": {
   "codemirror_mode": {
    "name": "ipython",
    "version": 3
   },
   "file_extension": ".py",
   "mimetype": "text/x-python",
   "name": "python",
   "nbconvert_exporter": "python",
   "pygments_lexer": "ipython3",
   "version": "3.12.2"
  }
 },
 "nbformat": 4,
 "nbformat_minor": 2
}
