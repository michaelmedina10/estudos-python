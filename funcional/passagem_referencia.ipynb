{
 "cells": [
  {
   "cell_type": "code",
   "execution_count": null,
   "metadata": {},
   "outputs": [],
   "source": [
    "# Passagem por referencia\n",
    "\n",
    "nomes = {\"nome\": \"michael\"}\n",
    "\n",
    "def a(obj: dict) -> None:\n",
    "    obj[\"sobrenome\"] = \"medina\"\n",
    "\n",
    "def b(obj: dict) -> None:\n",
    "    obj[\"nome\"] = \"novo nome\"\n",
    "\n",
    "a(nomes)\n",
    "b(nomes)\n",
    "\n",
    "nomes"
   ]
  },
  {
   "cell_type": "code",
   "execution_count": null,
   "metadata": {},
   "outputs": [],
   "source": [
    "# Passagem por referencia\n",
    "\n",
    "nomes = [{\"nome\": \"michal\"}]\n",
    "\n",
    "def a(obj: list) -> None:\n",
    "    obj[0][\"sobrenome\"] = \"medina\"\n",
    "    return obj\n",
    "\n",
    "def b(obj: list) -> None:\n",
    "    obj[0][\"nome\"] = \"novo nome\"\n",
    "    obj[0][\"endereco\"] = \"rua falsa\"\n",
    "    return obj\n",
    "\n",
    "test_1 = a(nomes)\n",
    "test_2 = b(nomes)\n",
    "\n",
    "print(test_1)\n",
    "print(test_2)\n",
    "print(nomes)"
   ]
  },
  {
   "cell_type": "code",
   "execution_count": null,
   "metadata": {},
   "outputs": [],
   "source": [
    "# Imuabilidade com shallow copy\n",
    "numeros = [1, 2, 3]\n",
    "\n",
    "def a(obj: list) -> None:\n",
    "    copy = obj.copy()\n",
    "    copy.append(4)\n",
    "    return copy\n",
    "\n",
    "def b(obj: list) -> None:\n",
    "    copy = obj.copy()\n",
    "    copy.append(5)\n",
    "    copy.append(6)\n",
    "\n",
    "    return copy\n",
    "\n",
    "test_1 = a(numeros)\n",
    "test_2 = b(numeros)\n",
    "\n",
    "print(test_1)\n",
    "print(test_2)\n",
    "print(numeros)"
   ]
  },
  {
   "cell_type": "code",
   "execution_count": null,
   "metadata": {},
   "outputs": [],
   "source": [
    "# Imuabilidade com shallow copy - ERRADO\n",
    "from copy import deepcopy\n",
    "nomes = [{\"nome\": \"michal\"}]\n",
    "\n",
    "def a(obj: list) -> None:\n",
    "    # copy = deepcopy(obj)\n",
    "    copy = obj.copy()\n",
    "    copy[0][\"sobrenome\"] = \"medina\"\n",
    "    return copy\n",
    "\n",
    "def b(obj: list) -> None:\n",
    "    # copy = deepcopy(obj)\n",
    "    copy = obj.copy()\n",
    "    copy[0][\"nome\"] = \"novo nome\"\n",
    "    copy[0][\"endereco\"] = \"rua falsa\"\n",
    "    return copy\n",
    "\n",
    "test_1 = a(nomes)\n",
    "test_2 = b(nomes)\n",
    "\n",
    "print(test_1)\n",
    "print(test_2)\n",
    "print(nomes)"
   ]
  },
  {
   "cell_type": "code",
   "execution_count": null,
   "metadata": {},
   "outputs": [],
   "source": [
    "# Imuabilidade com shallow copy - ERRADO\n",
    "from copy import deepcopy\n",
    "nomes = [{\"nome\": \"michal\"}]\n",
    "\n",
    "def a(obj: list) -> None:\n",
    "    copy = deepcopy(obj)\n",
    "    copy[0][\"sobrenome\"] = \"medina\"\n",
    "    return copy\n",
    "\n",
    "def b(obj: list) -> None:\n",
    "    copy = deepcopy(obj)\n",
    "    copy[0][\"nome\"] = \"novo nome\"\n",
    "    copy[0][\"endereco\"] = \"rua falsa\"\n",
    "    return copy\n",
    "\n",
    "test_1 = a(nomes)\n",
    "test_2 = b(nomes)\n",
    "\n",
    "print(test_1)\n",
    "print(test_2)\n",
    "print(nomes)"
   ]
  },
  {
   "cell_type": "code",
   "execution_count": null,
   "metadata": {},
   "outputs": [],
   "source": [
    "# Shallow copy\n",
    "\n",
    "a = ['nome', {\"outro_nome\": \"michael\"}]\n",
    "\n",
    "def set_nome(nomes:list) -> None:\n",
    "    copy = nomes.copy()\n",
    "    copy.append(\"joaquina\")\n",
    "    copy[0] = \"outro nome\"\n",
    "    # Camanda interna continua com referencia de memória\n",
    "    copy[1] = \"MUDOU\"\n",
    "    return copy\n",
    "\n",
    "b = set_nome(a)\n",
    "print(a)\n",
    "print(b)"
   ]
  },
  {
   "cell_type": "code",
   "execution_count": null,
   "metadata": {},
   "outputs": [],
   "source": [
    "# Deep copy\n",
    "from copy import deepcopy\n",
    "\n",
    "a = ['nome', {\"outro_nome\": \"michael\"}]\n",
    "\n",
    "def set_nome(nomes:list) -> None:\n",
    "    copy = deepcopy(nomes)\n",
    "    copy.append(\"joaquina\")\n",
    "    copy[0] = \"outro nome\"\n",
    "    # Camanda interna continua com referencia de memória\n",
    "    copy[1] = \"MUDOU\"\n",
    "    return copy\n",
    "\n",
    "b = set_nome(a)\n",
    "print(a)\n",
    "print(b)"
   ]
  },
  {
   "cell_type": "code",
   "execution_count": null,
   "metadata": {},
   "outputs": [],
   "source": []
  }
 ],
 "metadata": {
  "kernelspec": {
   "display_name": ".venv",
   "language": "python",
   "name": "python3"
  },
  "language_info": {
   "codemirror_mode": {
    "name": "ipython",
    "version": 3
   },
   "file_extension": ".py",
   "mimetype": "text/x-python",
   "name": "python",
   "nbconvert_exporter": "python",
   "pygments_lexer": "ipython3",
   "version": "3.11.4"
  }
 },
 "nbformat": 4,
 "nbformat_minor": 2
}
