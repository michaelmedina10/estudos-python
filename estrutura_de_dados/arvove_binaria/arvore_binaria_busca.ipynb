{
 "cells": [
  {
   "cell_type": "code",
   "execution_count": 19,
   "metadata": {},
   "outputs": [],
   "source": [
    "class No:\n",
    "  def __init__(self, valor):\n",
    "    self.valor = valor\n",
    "    self.esquerda = None\n",
    "    self.direita = None\n",
    "  \n",
    "  def mostra_no(self):\n",
    "    print(self.valor)"
   ]
  },
  {
   "cell_type": "code",
   "execution_count": 41,
   "metadata": {},
   "outputs": [],
   "source": [
    "class ArvoreBinariaBusca:\n",
    "  def __init__(self):\n",
    "    self.raiz = None\n",
    "    self.ligacoes = []\n",
    "\n",
    "  def inserir(self, valor):\n",
    "    novo = No(valor)\n",
    "    # Se a árvore estiver vazia\n",
    "    if self.raiz == None:\n",
    "      self.raiz = novo\n",
    "    else:\n",
    "      atual = self.raiz\n",
    "      while True:\n",
    "        pai = atual\n",
    "        # Esquerda\n",
    "        if valor < atual.valor:\n",
    "          atual = atual.esquerda\n",
    "          if atual == None:\n",
    "            pai.esquerda = novo\n",
    "            self.ligacoes.append(str(pai.valor) + '->' + str(novo.valor))\n",
    "            return\n",
    "        # Direita\n",
    "        else:\n",
    "          atual = atual.direita\n",
    "          if atual == None:\n",
    "            pai.direita = novo\n",
    "            self.ligacoes.append(str(pai.valor) + '->' + str(novo.valor))\n",
    "            return \n",
    "\n",
    "  def pesquisar(self, valor):\n",
    "    atual = self.raiz\n",
    "    while atual.valor != valor:\n",
    "      if valor < atual.valor:\n",
    "        atual = atual.esquerda\n",
    "      else:\n",
    "        atual = atual.direita\n",
    "      if atual == None:\n",
    "        return None\n",
    "    return atual\n",
    "\n",
    "  # Raiz, esquerda, direita\n",
    "  def pre_ordem(self, no):\n",
    "    if no != None:\n",
    "      print(no.valor)\n",
    "      self.pre_ordem(no.esquerda)\n",
    "      self.pre_ordem(no.direita)\n",
    "\n",
    "  # Esquerda, raiz, direita\n",
    "  def em_ordem(self, no):\n",
    "    if no != None:\n",
    "      self.em_ordem(no.esquerda)\n",
    "      print(no.valor)\n",
    "      self.em_ordem(no.direita)\n",
    "\n",
    "  # Esquerda, direita, raiz\n",
    "  def pos_ordem(self, no):\n",
    "    if no != None:\n",
    "      self.pos_ordem(no.esquerda)\n",
    "      self.pos_ordem(no.direita)\n",
    "      print(no.valor)\n",
    "\n",
    "  def excluir(self, valor):\n",
    "    if self.raiz == None:\n",
    "      print('A árvore está vazia')\n",
    "      return\n",
    "    \n",
    "    # Encontrar o nó\n",
    "    atual = self.raiz\n",
    "    pai = self.raiz\n",
    "    e_esquerda = True\n",
    "    while atual.valor != valor:\n",
    "      pai = atual\n",
    "      # Esquerda\n",
    "      if valor < atual.valor:\n",
    "        e_esquerda = True\n",
    "        atual = atual.esquerda\n",
    "      # Direita\n",
    "      else:\n",
    "        e_esquerda = False\n",
    "        atual = atual.direita\n",
    "      if atual == None:\n",
    "        return False\n",
    "    \n",
    "    # O nó a ser apagado é uma folha\n",
    "    if atual.esquerda == None and atual.direita == None:\n",
    "      if atual == self.raiz:\n",
    "        self.raiz = None\n",
    "      elif e_esquerda == True:\n",
    "        \n",
    "        self.ligacoes.remove(str(pai.valor) + '->' + str(atual.valor))\n",
    "        \n",
    "        pai.esquerda = None\n",
    "      else:\n",
    "        \n",
    "        self.ligacoes.remove(str(pai.valor) + '->' + str(atual.valor))\n",
    "        \n",
    "        pai.direita = None\n",
    "\n",
    "    # O nó a ser apagado não possui filho na direita\n",
    "    elif atual.direita == None:\n",
    "      \n",
    "      self.ligacoes.remove(str(pai.valor) + '->' + str(atual.valor))\n",
    "      self.ligacoes.remove(str(atual.valor) + '->' + str(atual.esquerda.valor))\n",
    "      \n",
    "      if atual == self.raiz:\n",
    "        self.raiz = atual.esquerda\n",
    "\n",
    "        self.ligacoes.append(str(self.raiz.valor) + '->' + str(atual.esquerda.valor))\n",
    "\n",
    "      elif e_esquerda == True:\n",
    "        pai.esquerda = atual.esquerda\n",
    "\n",
    "        self.ligacoes.append(str(pai.valor) + '->' + str(atual.esquerda.valor))\n",
    "\n",
    "      else:\n",
    "        pai.direita = atual.esquerda\n",
    "\n",
    "        self.ligacoes.append(str(pai.valor) + '->' + str(atual.esquerda.valor))\n",
    "\n",
    "    # O nó a ser apagado não possui filho na esquerda\n",
    "    elif atual.esquerda == None:\n",
    "\n",
    "      self.ligacoes.remove(str(pai.valor) + '->' + str(atual.valor))\n",
    "      self.ligacoes.remove(str(atual.valor) + '->' + str(atual.direita.valor))\n",
    "\n",
    "      if atual == self.raiz:\n",
    "\n",
    "        self.ligacoes.append(str(self.raiz.valor) + '->' + str(atual.direita.valor))\n",
    "\n",
    "        self.raiz = atual.direita\n",
    "      elif e_esquerda == True:\n",
    "\n",
    "        self.ligacoes.append(str(pai.valor) + '->' + str(atual.direita.valor))\n",
    "\n",
    "        pai.esquerda = atual.direita\n",
    "      else:\n",
    "\n",
    "        self.ligacoes.append(str(pai.valor) + '->' + str(atual.direita.valor))\n",
    "\n",
    "        pai.direita = atual.direita\n",
    "\n",
    "    # O nó possui dois filhos\n",
    "    else:\n",
    "      sucessor = self.get_sucessor(atual)\n",
    "\n",
    "      if atual == self.raiz:\n",
    "\n",
    "        self.raiz = sucessor\n",
    "\n",
    "      elif e_esquerda == True:\n",
    "\n",
    "        pai.esquerda = sucessor\n",
    "\n",
    "      else:\n",
    "\n",
    "\n",
    "        pai.direita = sucessor\n",
    "\n",
    "      sucessor.esquerda = atual.esquerda\n",
    "\n",
    "    return True\n",
    "\n",
    "  def get_sucessor(self, no):\n",
    "    pai_sucessor = no\n",
    "    sucessor = no\n",
    "    atual = no.direita\n",
    "    while atual != None:\n",
    "      pai_sucessor = sucessor\n",
    "      sucessor = atual\n",
    "      atual = atual.esquerda\n",
    "    if sucessor != no.direita:\n",
    "      pai_sucessor.esquerda = sucessor.direita\n",
    "      sucessor.direita = no.direita\n",
    "    return sucessor"
   ]
  },
  {
   "cell_type": "markdown",
   "metadata": {},
   "source": [
    "### Inserção e vizualização"
   ]
  },
  {
   "cell_type": "code",
   "execution_count": 42,
   "metadata": {},
   "outputs": [],
   "source": [
    "arvore = ArvoreBinariaBusca()\n",
    "arvore.inserir(53)\n",
    "arvore.inserir(30)\n",
    "arvore.inserir(14)\n",
    "arvore.inserir(39)\n",
    "arvore.inserir(9)\n",
    "arvore.inserir(23)\n",
    "arvore.inserir(34)\n",
    "arvore.inserir(49)\n",
    "arvore.inserir(72)\n",
    "arvore.inserir(61)\n",
    "arvore.inserir(84)\n",
    "arvore.inserir(79)"
   ]
  },
  {
   "cell_type": "markdown",
   "metadata": {},
   "source": [
    "### Pequisa"
   ]
  },
  {
   "cell_type": "code",
   "execution_count": 9,
   "metadata": {},
   "outputs": [
    {
     "data": {
      "text/plain": [
       "<__main__.No at 0x103bed410>"
      ]
     },
     "execution_count": 9,
     "metadata": {},
     "output_type": "execute_result"
    }
   ],
   "source": [
    "arvore.pesquisar(53)"
   ]
  },
  {
   "cell_type": "markdown",
   "metadata": {},
   "source": [
    "### Travessia"
   ]
  },
  {
   "cell_type": "code",
   "execution_count": 32,
   "metadata": {},
   "outputs": [
    {
     "name": "stdout",
     "output_type": "stream",
     "text": [
      "53\n",
      "30\n",
      "14\n",
      "9\n",
      "23\n",
      "39\n",
      "34\n",
      "49\n",
      "72\n",
      "61\n",
      "84\n",
      "79\n"
     ]
    }
   ],
   "source": [
    "arvore.pre_ordem(arvore.raiz)"
   ]
  },
  {
   "cell_type": "code",
   "execution_count": 10,
   "metadata": {},
   "outputs": [
    {
     "name": "stdout",
     "output_type": "stream",
     "text": [
      "9\n",
      "14\n",
      "23\n",
      "30\n",
      "34\n",
      "39\n",
      "49\n",
      "53\n",
      "61\n",
      "72\n",
      "79\n",
      "84\n"
     ]
    }
   ],
   "source": [
    "arvore.ordem(arvore.raiz)"
   ]
  },
  {
   "cell_type": "code",
   "execution_count": 11,
   "metadata": {},
   "outputs": [
    {
     "name": "stdout",
     "output_type": "stream",
     "text": [
      "9\n",
      "23\n",
      "14\n",
      "34\n",
      "49\n",
      "39\n",
      "30\n",
      "61\n",
      "79\n",
      "84\n",
      "72\n",
      "53\n"
     ]
    }
   ],
   "source": [
    "arvore.pos_ordem(arvore.raiz)"
   ]
  },
  {
   "cell_type": "markdown",
   "metadata": {},
   "source": [
    "### Excluir"
   ]
  },
  {
   "cell_type": "code",
   "execution_count": 37,
   "metadata": {},
   "outputs": [],
   "source": [
    "arvore.excluir(9)\n",
    "arvore.ligacoes"
   ]
  },
  {
   "cell_type": "code",
   "execution_count": 30,
   "metadata": {},
   "outputs": [
    {
     "data": {
      "text/plain": [
       "True"
      ]
     },
     "execution_count": 30,
     "metadata": {},
     "output_type": "execute_result"
    }
   ],
   "source": [
    "arvore.excluir(49)"
   ]
  },
  {
   "cell_type": "code",
   "execution_count": 31,
   "metadata": {},
   "outputs": [
    {
     "data": {
      "text/plain": [
       "['53->30',\n",
       " '30->14',\n",
       " '30->39',\n",
       " '14->9',\n",
       " '14->23',\n",
       " '39->34',\n",
       " '53->72',\n",
       " '72->61',\n",
       " '72->84',\n",
       " '84->79']"
      ]
     },
     "execution_count": 31,
     "metadata": {},
     "output_type": "execute_result"
    }
   ],
   "source": [
    "arvore.ligacoes"
   ]
  },
  {
   "cell_type": "code",
   "execution_count": 43,
   "metadata": {},
   "outputs": [
    {
     "name": "stdout",
     "output_type": "stream",
     "text": [
      "sucessor:  <__main__.No object at 0x108368d90>\n"
     ]
    },
    {
     "data": {
      "text/plain": [
       "True"
      ]
     },
     "execution_count": 43,
     "metadata": {},
     "output_type": "execute_result"
    }
   ],
   "source": [
    "arvore.excluir(53)"
   ]
  },
  {
   "cell_type": "code",
   "execution_count": 45,
   "metadata": {},
   "outputs": [
    {
     "data": {
      "text/plain": [
       "61"
      ]
     },
     "execution_count": 45,
     "metadata": {},
     "output_type": "execute_result"
    }
   ],
   "source": [
    "arvore.raiz.valor"
   ]
  },
  {
   "cell_type": "code",
   "execution_count": null,
   "metadata": {},
   "outputs": [],
   "source": []
  }
 ],
 "metadata": {
  "kernelspec": {
   "display_name": ".venv",
   "language": "python",
   "name": "python3"
  },
  "language_info": {
   "codemirror_mode": {
    "name": "ipython",
    "version": 3
   },
   "file_extension": ".py",
   "mimetype": "text/x-python",
   "name": "python",
   "nbconvert_exporter": "python",
   "pygments_lexer": "ipython3",
   "version": "3.11.4"
  }
 },
 "nbformat": 4,
 "nbformat_minor": 2
}
