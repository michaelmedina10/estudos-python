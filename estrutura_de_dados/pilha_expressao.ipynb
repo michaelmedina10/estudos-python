{
 "cells": [
  {
   "cell_type": "code",
   "execution_count": 1,
   "metadata": {},
   "outputs": [],
   "source": [
    "import numpy as np"
   ]
  },
  {
   "cell_type": "code",
   "execution_count": 3,
   "metadata": {},
   "outputs": [],
   "source": [
    "class Pilha:\n",
    "    def __init__(self, capacidade) -> None:\n",
    "        self.__capacidade = capacidade\n",
    "        self.__topo = -1\n",
    "        self.__valores = np.chararray(self.__capacidade, unicode=True)\n",
    "\n",
    "    def __pilha_cheia(self):\n",
    "        if self.__topo == self.__capacidade -1:\n",
    "            return True\n",
    "        else:\n",
    "            return False\n",
    "\n",
    "    def pilha_vazia(self):\n",
    "        if self.__topo == -1:\n",
    "            return True\n",
    "        else:\n",
    "            return False\n",
    "\n",
    "    def empilhar(self, valor):\n",
    "        if self.__pilha_cheia():\n",
    "            print(\"Pilha está cheia\")\n",
    "        else:\n",
    "            self.__topo += 1\n",
    "            self.__valores[self.__topo] = valor\n",
    "\n",
    "    def desempilhar(self):\n",
    "        if self.pilha_vazia():\n",
    "            print(\"A pilha está vazia\")\n",
    "            return -1\n",
    "        else:\n",
    "            valor = self.__valores[self.__topo]\n",
    "            self.__topo -= 1\n",
    "            return valor\n",
    "\n",
    "    def ver_topo(self):\n",
    "        if not self.pilha_vazia():\n",
    "            return self.__valores[self.__topo]\n",
    "        else:\n",
    "            return -1"
   ]
  },
  {
   "cell_type": "code",
   "execution_count": null,
   "metadata": {},
   "outputs": [],
   "source": [
    "# c[d]\n",
    "# a{b[c]d}e\n",
    "# a{b(c]d}e\n",
    "# a{c(c)"
   ]
  },
  {
   "cell_type": "code",
   "execution_count": 11,
   "metadata": {},
   "outputs": [
    {
     "name": "stdout",
     "output_type": "stream",
     "text": [
      "Erro!\n"
     ]
    }
   ],
   "source": [
    "expressao = str(input(\"Digite uma expressão:\"))\n",
    "pilha = Pilha(len(expressao))\n",
    "\n",
    "for i in range(len(expressao)):\n",
    "    ch = expressao[i]\n",
    "    if ch == '{' or ch == '[' or ch == '(':\n",
    "        pilha.empilhar(ch)\n",
    "    elif ch == '}' or ch == ']' or ch == ')':\n",
    "        if not pilha.pilha_vazia():\n",
    "            chx = str(pilha.desempilhar())\n",
    "            if (ch == '}' and chx != '{') or (ch == ']' and chx != '[') or (ch == ')' and chx != '('):\n",
    "                print(f\"Erro: {ch} na posição {i}\")\n",
    "                break\n",
    "        else:\n",
    "            print(f\"Erro: {ch} na posição {i}\")\n",
    "\n",
    "if not pilha.pilha_vazia():\n",
    "    print(\"Erro!\")"
   ]
  },
  {
   "cell_type": "code",
   "execution_count": null,
   "metadata": {},
   "outputs": [],
   "source": []
  }
 ],
 "metadata": {
  "kernelspec": {
   "display_name": ".venv",
   "language": "python",
   "name": "python3"
  },
  "language_info": {
   "codemirror_mode": {
    "name": "ipython",
    "version": 3
   },
   "file_extension": ".py",
   "mimetype": "text/x-python",
   "name": "python",
   "nbconvert_exporter": "python",
   "pygments_lexer": "ipython3",
   "version": "3.11.4"
  }
 },
 "nbformat": 4,
 "nbformat_minor": 2
}
