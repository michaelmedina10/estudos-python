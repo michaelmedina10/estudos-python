{
 "cells": [
  {
   "cell_type": "code",
   "execution_count": 113,
   "metadata": {},
   "outputs": [],
   "source": [
    "class No:\n",
    "    def __init__(self, valor) -> None:\n",
    "        self.valor = valor\n",
    "        self.proximo = None\n",
    "        self.anterior = None\n",
    "\n",
    "    def mostra_no(self):\n",
    "        print(self.valor)"
   ]
  },
  {
   "cell_type": "code",
   "execution_count": 172,
   "metadata": {},
   "outputs": [],
   "source": [
    "class ListaDuplamenteEncadeada:\n",
    "\n",
    "    def __init__(self) -> None:\n",
    "        self.primeiro = None\n",
    "        self.ultimo = None\n",
    "\n",
    "    def __lista_vazia(self):\n",
    "        return self.primeiro == None\n",
    "\n",
    "    def insere_inicio(self, valor):\n",
    "        novo = No(valor)\n",
    "        if self.__lista_vazia():\n",
    "            self.ultimo = novo\n",
    "        else:\n",
    "            self.primeiro.anterior = novo\n",
    "        novo.proximo = self.primeiro\n",
    "        self.primeiro = novo\n",
    "\n",
    "    def insere_final(self, valor):\n",
    "        novo = No(valor)\n",
    "        if self.__lista_vazia():\n",
    "            self.primeiro = novo\n",
    "        else:\n",
    "            self.ultimo.proximo = novo\n",
    "        novo.anterior = self.ultimo\n",
    "        self.ultimo = novo\n",
    "\n",
    "    def excluir_inicio(self):\n",
    "        temp = self.primeiro\n",
    "        if self.primeiro.proximo == None:\n",
    "            self.ultimo = None\n",
    "        else:\n",
    "            self.primeiro.proximo.anterior = None\n",
    "        self.primeiro = self.primeiro.proximo\n",
    "        return temp\n",
    "\n",
    "    def excluir_final(self):\n",
    "        temp = self.ultimo\n",
    "        if self.ultimo.anterior == None:\n",
    "            self.primeiro = None\n",
    "        else:\n",
    "            self.ultimo.anterior.proximo = None\n",
    "        self.ultimo = self.ultimo.anterior\n",
    "        return temp\n",
    "\n",
    "    def excluir_posicao(self, valor):\n",
    "        atual = self.primeiro\n",
    "        while atual.valor != valor:\n",
    "            atual = atual.proximo\n",
    "            if atual is None:\n",
    "                return None\n",
    "        if atual == self.primeiro:\n",
    "            self.primeiro = atual.proximo\n",
    "        else:\n",
    "            atual.anterior.proximo = atual.proximo\n",
    "\n",
    "        if atual == self.ultimo:\n",
    "            self.ultimo = atual.anterior\n",
    "        else:\n",
    "            atual.proximo.anterior = atual.anterior\n",
    "        return atual\n",
    "\n",
    "    def mostrar_frente(self):\n",
    "        atual = self.primeiro\n",
    "        while atual != None:\n",
    "            atual.mostra_no()\n",
    "            atual = atual.proximo\n",
    "\n",
    "    def mostrar_tras(self):\n",
    "        atual = self.ultimo\n",
    "        while atual != None:\n",
    "            atual.mostra_no()\n",
    "            atual = atual.anterior"
   ]
  },
  {
   "cell_type": "markdown",
   "metadata": {},
   "source": [
    "#### Insere inicio"
   ]
  },
  {
   "cell_type": "code",
   "execution_count": 6,
   "metadata": {},
   "outputs": [],
   "source": [
    "lista = ListaDuplamenteEncadeada()"
   ]
  },
  {
   "cell_type": "code",
   "execution_count": 7,
   "metadata": {},
   "outputs": [
    {
     "name": "stdout",
     "output_type": "stream",
     "text": [
      "5\n",
      "4\n",
      "3\n",
      "2\n",
      "1\n"
     ]
    }
   ],
   "source": [
    "lista.insere_inicio(1)\n",
    "lista.insere_inicio(2)\n",
    "lista.insere_inicio(3)\n",
    "lista.insere_inicio(4)\n",
    "lista.insere_inicio(5)\n",
    "lista.mostrar_frente()"
   ]
  },
  {
   "cell_type": "code",
   "execution_count": 8,
   "metadata": {},
   "outputs": [
    {
     "data": {
      "text/plain": [
       "(<__main__.No at 0x108a75990>, <__main__.No at 0x108a45a50>)"
      ]
     },
     "execution_count": 8,
     "metadata": {},
     "output_type": "execute_result"
    }
   ],
   "source": [
    "lista.primeiro, lista.ultimo"
   ]
  },
  {
   "cell_type": "code",
   "execution_count": 9,
   "metadata": {},
   "outputs": [
    {
     "data": {
      "text/plain": [
       "(5, 1)"
      ]
     },
     "execution_count": 9,
     "metadata": {},
     "output_type": "execute_result"
    }
   ],
   "source": [
    "lista.primeiro.valor, lista.ultimo.valor"
   ]
  },
  {
   "cell_type": "code",
   "execution_count": 10,
   "metadata": {},
   "outputs": [
    {
     "name": "stdout",
     "output_type": "stream",
     "text": [
      "1\n",
      "2\n",
      "3\n",
      "4\n",
      "5\n"
     ]
    }
   ],
   "source": [
    "lista.mostrar_tras()"
   ]
  },
  {
   "cell_type": "markdown",
   "metadata": {},
   "source": [
    "#### insere final"
   ]
  },
  {
   "cell_type": "code",
   "execution_count": 59,
   "metadata": {},
   "outputs": [],
   "source": [
    "lista = ListaDuplamenteEncadeada()"
   ]
  },
  {
   "cell_type": "code",
   "execution_count": 60,
   "metadata": {},
   "outputs": [],
   "source": [
    "lista.insere_inicio(1)\n",
    "lista.insere_inicio(2)\n",
    "lista.insere_final(3)\n",
    "lista.insere_final(4)"
   ]
  },
  {
   "cell_type": "code",
   "execution_count": 61,
   "metadata": {},
   "outputs": [
    {
     "name": "stdout",
     "output_type": "stream",
     "text": [
      "2\n",
      "1\n",
      "3\n",
      "4\n"
     ]
    }
   ],
   "source": [
    "lista.mostrar_frente()\n"
   ]
  },
  {
   "cell_type": "code",
   "execution_count": 62,
   "metadata": {},
   "outputs": [
    {
     "name": "stdout",
     "output_type": "stream",
     "text": [
      "4\n",
      "3\n",
      "1\n",
      "2\n"
     ]
    }
   ],
   "source": [
    "lista.mostrar_tras()"
   ]
  },
  {
   "cell_type": "code",
   "execution_count": 63,
   "metadata": {},
   "outputs": [
    {
     "data": {
      "text/plain": [
       "(2, 4)"
      ]
     },
     "execution_count": 63,
     "metadata": {},
     "output_type": "execute_result"
    }
   ],
   "source": [
    "lista.primeiro.valor, lista.ultimo.valor"
   ]
  },
  {
   "cell_type": "markdown",
   "metadata": {},
   "source": [
    "#### Excluir inicio e final"
   ]
  },
  {
   "cell_type": "code",
   "execution_count": 167,
   "metadata": {},
   "outputs": [],
   "source": [
    "lista = ListaDuplamenteEncadeada()"
   ]
  },
  {
   "cell_type": "code",
   "execution_count": 168,
   "metadata": {},
   "outputs": [
    {
     "name": "stdout",
     "output_type": "stream",
     "text": [
      "3\n",
      "2\n",
      "1\n"
     ]
    }
   ],
   "source": [
    "lista.insere_inicio(1)\n",
    "lista.insere_inicio(2)\n",
    "lista.insere_inicio(3)\n",
    "# lista.insere_final(3)\n",
    "# lista.insere_final(4)\n",
    "lista.mostrar_frente()"
   ]
  },
  {
   "cell_type": "code",
   "execution_count": 169,
   "metadata": {},
   "outputs": [
    {
     "name": "stdout",
     "output_type": "stream",
     "text": [
      "2\n",
      "1\n"
     ]
    }
   ],
   "source": [
    "lista.excluir_inicio()\n",
    "lista.mostrar_frente()"
   ]
  },
  {
   "cell_type": "code",
   "execution_count": 170,
   "metadata": {},
   "outputs": [
    {
     "name": "stdout",
     "output_type": "stream",
     "text": [
      "2\n"
     ]
    }
   ],
   "source": [
    "lista.excluir_final()\n",
    "lista.mostrar_frente()"
   ]
  },
  {
   "cell_type": "code",
   "execution_count": 171,
   "metadata": {},
   "outputs": [
    {
     "name": "stdout",
     "output_type": "stream",
     "text": [
      "2\n"
     ]
    }
   ],
   "source": [
    "lista.mostrar_tras()"
   ]
  },
  {
   "cell_type": "markdown",
   "metadata": {},
   "source": [
    "#### Excluir posição"
   ]
  },
  {
   "cell_type": "code",
   "execution_count": 173,
   "metadata": {},
   "outputs": [
    {
     "name": "stdout",
     "output_type": "stream",
     "text": [
      "5\n",
      "4\n",
      "3\n",
      "2\n",
      "1\n"
     ]
    }
   ],
   "source": [
    "lista = ListaDuplamenteEncadeada()\n",
    "lista.insere_inicio(1)\n",
    "lista.insere_inicio(2)\n",
    "lista.insere_inicio(3)\n",
    "lista.insere_inicio(4)\n",
    "lista.insere_inicio(5)\n",
    "lista.mostrar_frente()"
   ]
  },
  {
   "cell_type": "code",
   "execution_count": 174,
   "metadata": {},
   "outputs": [
    {
     "name": "stdout",
     "output_type": "stream",
     "text": [
      "5\n",
      "4\n",
      "2\n",
      "1\n",
      "\n",
      "1\n",
      "2\n",
      "4\n",
      "5\n"
     ]
    }
   ],
   "source": [
    "lista.excluir_posicao(3)\n",
    "\n",
    "lista.mostrar_frente()\n",
    "print()\n",
    "lista.mostrar_tras()"
   ]
  },
  {
   "cell_type": "code",
   "execution_count": 175,
   "metadata": {},
   "outputs": [
    {
     "data": {
      "text/plain": [
       "<__main__.No at 0x108a2b950>"
      ]
     },
     "execution_count": 175,
     "metadata": {},
     "output_type": "execute_result"
    }
   ],
   "source": [
    "lista.excluir_posicao(5)\n",
    "lista.excluir_posicao(1)"
   ]
  },
  {
   "cell_type": "code",
   "execution_count": 176,
   "metadata": {},
   "outputs": [
    {
     "name": "stdout",
     "output_type": "stream",
     "text": [
      "4\n",
      "2\n",
      "\n",
      "2\n",
      "4\n"
     ]
    }
   ],
   "source": [
    "lista.mostrar_frente()\n",
    "print()\n",
    "lista.mostrar_tras()"
   ]
  }
 ],
 "metadata": {
  "kernelspec": {
   "display_name": ".venv",
   "language": "python",
   "name": "python3"
  },
  "language_info": {
   "codemirror_mode": {
    "name": "ipython",
    "version": 3
   },
   "file_extension": ".py",
   "mimetype": "text/x-python",
   "name": "python",
   "nbconvert_exporter": "python",
   "pygments_lexer": "ipython3",
   "version": "3.11.4"
  }
 },
 "nbformat": 4,
 "nbformat_minor": 2
}
