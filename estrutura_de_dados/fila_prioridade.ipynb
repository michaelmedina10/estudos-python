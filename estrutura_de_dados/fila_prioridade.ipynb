{
 "cells": [
  {
   "cell_type": "code",
   "execution_count": 1,
   "metadata": {},
   "outputs": [],
   "source": [
    "import numpy as np"
   ]
  },
  {
   "cell_type": "code",
   "execution_count": 2,
   "metadata": {},
   "outputs": [],
   "source": [
    "class FilaPrioridade:\n",
    "    def __init__(self, capacidade) -> None:\n",
    "        self.capacidade = capacidade\n",
    "        self.numero_elementos = 0\n",
    "        self.valores = np.empty(self.capacidade, dtype=int)\n",
    "\n",
    "    def __fila_vazia(self):\n",
    "        return self.numero_elementos == 0\n",
    "\n",
    "    def __fila_cheia(self):\n",
    "        return self.numero_elementos == self.capacidade\n",
    "\n",
    "    # Regra imposta, menor valor vem primeiro\n",
    "    # array = 30\n",
    "    # valor exemplo inserido = 50\n",
    "\n",
    "    '''\n",
    "            1               (0)\n",
    "    x(0) = numero_elementos -1 ()\n",
    "    enquanto 0 >= 0:\n",
    "        self.valores[0 + 1] = self.valore[0]\n",
    "        # Array = (30, 30)\n",
    "        x -= 1 ## x = -1\n",
    "\n",
    "    self.valores[(-1 + 1) = 0] = valor\n",
    "    Array(50, 30)\n",
    "    numero_elementos += 1 # (2)\n",
    "    '''\n",
    "\n",
    "    '''\n",
    "    Segundo loop inserir valor 10\n",
    "\n",
    "    x = 1\n",
    "    enquanto 1 >= 0:\n",
    "            10   >  30\n",
    "        if valor > valores[1]:\n",
    "            ...\n",
    "\n",
    "        else:\n",
    "            break\n",
    "\n",
    "        valores[1 + 1] = valor\n",
    "        numero_elementos += 1 (3)\n",
    "        # Array (50, 30, 10)\n",
    "    '''\n",
    "\n",
    "    '''\n",
    "    Terceiro loop inserir valor 10\n",
    "\n",
    "    x = 2\n",
    "    enquanto (2)(1)(0) >= 0:\n",
    "            40   >  50\n",
    "        if valor > valores[1]:\n",
    "            # Array (50, 30, 10, 10)\n",
    "            # Array (50, 30, 30, 10)\n",
    "            valores[1 + 1] = valores[1]\n",
    "            numero_element += 1 ### 4\n",
    "\n",
    "        else:\n",
    "            break\n",
    "        x -= 1 ## 1, 0\n",
    "\n",
    "        valores[0 + 1] = valor\n",
    "        numero_elementos += 1 (3)\n",
    "        # Array (50, 40, 30, 10)\n",
    "    '''\n",
    "    def enfileirar(self, valor):\n",
    "        if self.__fila_cheia():\n",
    "            print('A fila está cheia')\n",
    "            return\n",
    "\n",
    "        if self.numero_elementos == 0:\n",
    "            self.valores[self.numero_elementos] = valor\n",
    "            self.numero_elementos += 1\n",
    "        else:\n",
    "            x = self.numero_elementos - 1\n",
    "            while x >= 0:\n",
    "                if valor > self.valores[x]:\n",
    "                    self.valores[x + 1] = self.valores[x]\n",
    "                else:\n",
    "                    break\n",
    "                x -= 1\n",
    "            self.valores[x + 1] = valor\n",
    "            self.numero_elementos += 1\n",
    "\n",
    "    def desenfileirar(self):\n",
    "        if self.__fila_vazia():\n",
    "            print(\"A fila está vazia\")\n",
    "            return\n",
    "\n",
    "        valor = self.valores[self.numero_elementos -1]\n",
    "        self.numero_elementos -= 1\n",
    "        return valor\n",
    "\n",
    "    def primeiro(self):\n",
    "        if self.__fila_vazia():\n",
    "            return -1\n",
    "        return self.valores[self.numero_elementos -1]"
   ]
  },
  {
   "cell_type": "code",
   "execution_count": 3,
   "metadata": {},
   "outputs": [],
   "source": [
    "fila = FilaPrioridade(5)"
   ]
  },
  {
   "cell_type": "code",
   "execution_count": 4,
   "metadata": {},
   "outputs": [
    {
     "data": {
      "text/plain": [
       "-1"
      ]
     },
     "execution_count": 4,
     "metadata": {},
     "output_type": "execute_result"
    }
   ],
   "source": [
    "fila.primeiro()"
   ]
  },
  {
   "cell_type": "code",
   "execution_count": 5,
   "metadata": {},
   "outputs": [
    {
     "data": {
      "text/plain": [
       "30"
      ]
     },
     "execution_count": 5,
     "metadata": {},
     "output_type": "execute_result"
    }
   ],
   "source": [
    "# 30\n",
    "fila.enfileirar(30)\n",
    "fila.primeiro()"
   ]
  },
  {
   "cell_type": "code",
   "execution_count": 6,
   "metadata": {},
   "outputs": [
    {
     "data": {
      "text/plain": [
       "30"
      ]
     },
     "execution_count": 6,
     "metadata": {},
     "output_type": "execute_result"
    }
   ],
   "source": [
    "# 50 30\n",
    "fila.enfileirar(50)\n",
    "fila.primeiro()"
   ]
  },
  {
   "cell_type": "code",
   "execution_count": 7,
   "metadata": {},
   "outputs": [
    {
     "data": {
      "text/plain": [
       "10"
      ]
     },
     "execution_count": 7,
     "metadata": {},
     "output_type": "execute_result"
    }
   ],
   "source": [
    "# 50 30 10\n",
    "fila.enfileirar(10)\n",
    "fila.primeiro()"
   ]
  },
  {
   "cell_type": "code",
   "execution_count": 9,
   "metadata": {},
   "outputs": [
    {
     "data": {
      "text/plain": [
       "10"
      ]
     },
     "execution_count": 9,
     "metadata": {},
     "output_type": "execute_result"
    }
   ],
   "source": [
    "# 50 40 30 10\n",
    "fila.enfileirar(40)\n",
    "fila.primeiro()"
   ]
  },
  {
   "cell_type": "code",
   "execution_count": 11,
   "metadata": {},
   "outputs": [
    {
     "data": {
      "text/plain": [
       "10"
      ]
     },
     "execution_count": 11,
     "metadata": {},
     "output_type": "execute_result"
    }
   ],
   "source": [
    "# 50 40 30 20 10\n",
    "fila.enfileirar(20)\n",
    "fila.primeiro()"
   ]
  },
  {
   "cell_type": "code",
   "execution_count": 12,
   "metadata": {},
   "outputs": [
    {
     "name": "stdout",
     "output_type": "stream",
     "text": [
      "A fila está cheia\n"
     ]
    }
   ],
   "source": [
    "fila.enfileirar(2)"
   ]
  },
  {
   "cell_type": "code",
   "execution_count": 13,
   "metadata": {},
   "outputs": [
    {
     "data": {
      "text/plain": [
       "20"
      ]
     },
     "execution_count": 13,
     "metadata": {},
     "output_type": "execute_result"
    }
   ],
   "source": [
    "fila.desenfileirar()\n",
    "fila.primeiro()"
   ]
  },
  {
   "cell_type": "code",
   "execution_count": 14,
   "metadata": {},
   "outputs": [
    {
     "data": {
      "text/plain": [
       "30"
      ]
     },
     "execution_count": 14,
     "metadata": {},
     "output_type": "execute_result"
    }
   ],
   "source": [
    "fila.desenfileirar()\n",
    "fila.primeiro()"
   ]
  },
  {
   "cell_type": "code",
   "execution_count": 16,
   "metadata": {},
   "outputs": [
    {
     "data": {
      "text/plain": [
       "40"
      ]
     },
     "execution_count": 16,
     "metadata": {},
     "output_type": "execute_result"
    }
   ],
   "source": [
    "fila.desenfileirar()\n",
    "fila.primeiro()"
   ]
  },
  {
   "cell_type": "code",
   "execution_count": 17,
   "metadata": {},
   "outputs": [
    {
     "data": {
      "text/plain": [
       "array([50, 40, 30, 20, 10])"
      ]
     },
     "execution_count": 17,
     "metadata": {},
     "output_type": "execute_result"
    }
   ],
   "source": [
    "fila.valores"
   ]
  },
  {
   "cell_type": "code",
   "execution_count": 18,
   "metadata": {},
   "outputs": [
    {
     "data": {
      "text/plain": [
       "5"
      ]
     },
     "execution_count": 18,
     "metadata": {},
     "output_type": "execute_result"
    }
   ],
   "source": [
    "fila.enfileirar(5)\n",
    "fila.primeiro()"
   ]
  },
  {
   "cell_type": "code",
   "execution_count": 19,
   "metadata": {},
   "outputs": [
    {
     "data": {
      "text/plain": [
       "array([50, 40,  5, 20, 10])"
      ]
     },
     "execution_count": 19,
     "metadata": {},
     "output_type": "execute_result"
    }
   ],
   "source": [
    "fila.valores"
   ]
  },
  {
   "cell_type": "code",
   "execution_count": null,
   "metadata": {},
   "outputs": [],
   "source": []
  }
 ],
 "metadata": {
  "kernelspec": {
   "display_name": ".venv",
   "language": "python",
   "name": "python3"
  },
  "language_info": {
   "codemirror_mode": {
    "name": "ipython",
    "version": 3
   },
   "file_extension": ".py",
   "mimetype": "text/x-python",
   "name": "python",
   "nbconvert_exporter": "python",
   "pygments_lexer": "ipython3",
   "version": "3.11.4"
  }
 },
 "nbformat": 4,
 "nbformat_minor": 2
}
