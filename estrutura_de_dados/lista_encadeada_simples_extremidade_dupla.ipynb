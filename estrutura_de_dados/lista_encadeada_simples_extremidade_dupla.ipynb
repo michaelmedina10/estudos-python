{
 "cells": [
  {
   "cell_type": "code",
   "execution_count": 1,
   "metadata": {},
   "outputs": [],
   "source": [
    "class No:\n",
    "    def __init__(self, valor) -> None:\n",
    "        self.valor = valor\n",
    "        self.proximo = None\n",
    "\n",
    "    def mostra_no(self):\n",
    "        print(self.valor)"
   ]
  },
  {
   "cell_type": "code",
   "execution_count": 18,
   "metadata": {},
   "outputs": [],
   "source": [
    "class ListaEncadeadaExtremidadeDupla:\n",
    "    def __init__(self) -> None:\n",
    "        self.primeiro = None\n",
    "        self.ultimo = None\n",
    "\n",
    "    def __lista_vazia(self):\n",
    "        return self.primeiro == None\n",
    "\n",
    "    def insere_inicio(self, valor):\n",
    "        novo = No(valor)\n",
    "        if self.__lista_vazia():\n",
    "            self.ultimo = novo \n",
    "        novo.proximo = self.primeiro\n",
    "        self.primeiro = novo\n",
    "\n",
    "    def insere_final(self, valor):\n",
    "        novo = No(valor)\n",
    "        if self.__lista_vazia():\n",
    "            self.primeiro = novo\n",
    "        else:\n",
    "            self.ultimo.proximo = novo\n",
    "        self.ultimo = novo\n",
    "\n",
    "    def excluir_inicio(self):\n",
    "        if self.__lista_vazia():\n",
    "            print(\"A lista está vazia\")\n",
    "            return\n",
    "        temp = self.primeiro\n",
    "        if self.primeiro.proximo == None:\n",
    "            self.ultimo = None\n",
    "        self.primeiro = self.primeiro.proximo\n",
    "        return temp\n",
    "\n",
    "\n",
    "\n",
    "    def mostrar(self):\n",
    "        if self.__lista_vazia():\n",
    "            print(\"A lista está vazia!!!\")\n",
    "            return\n",
    "        atual = self.primeiro\n",
    "        while atual != None:\n",
    "            atual.mostra_no()\n",
    "            atual = atual.proximo\n"
   ]
  },
  {
   "cell_type": "markdown",
   "metadata": {},
   "source": [
    "#### Insere inicio e mostra"
   ]
  },
  {
   "cell_type": "code",
   "execution_count": 8,
   "metadata": {},
   "outputs": [],
   "source": [
    "lista = ListaEncadeadaExtremidadeDupla()"
   ]
  },
  {
   "cell_type": "code",
   "execution_count": 9,
   "metadata": {},
   "outputs": [
    {
     "name": "stdout",
     "output_type": "stream",
     "text": [
      "1\n"
     ]
    }
   ],
   "source": [
    "lista.insere_inicio(1)\n",
    "lista.mostrar()"
   ]
  },
  {
   "cell_type": "code",
   "execution_count": 10,
   "metadata": {},
   "outputs": [
    {
     "data": {
      "text/plain": [
       "(<__main__.No at 0x11794d2d0>, <__main__.No at 0x11794d2d0>)"
      ]
     },
     "execution_count": 10,
     "metadata": {},
     "output_type": "execute_result"
    }
   ],
   "source": [
    "lista.primeiro, lista.ultimo"
   ]
  },
  {
   "cell_type": "code",
   "execution_count": 11,
   "metadata": {},
   "outputs": [
    {
     "name": "stdout",
     "output_type": "stream",
     "text": [
      "5\n",
      "4\n",
      "3\n",
      "2\n",
      "1\n"
     ]
    }
   ],
   "source": [
    "lista.insere_inicio(2)\n",
    "lista.insere_inicio(3)\n",
    "lista.insere_inicio(4)\n",
    "lista.insere_inicio(5)\n",
    "lista.mostrar()"
   ]
  },
  {
   "cell_type": "markdown",
   "metadata": {},
   "source": [
    "#### Insere final"
   ]
  },
  {
   "cell_type": "code",
   "execution_count": 13,
   "metadata": {},
   "outputs": [],
   "source": [
    "lista = ListaEncadeadaExtremidadeDupla()"
   ]
  },
  {
   "cell_type": "code",
   "execution_count": 14,
   "metadata": {},
   "outputs": [],
   "source": [
    "lista.insere_final(1)"
   ]
  },
  {
   "cell_type": "code",
   "execution_count": 15,
   "metadata": {},
   "outputs": [
    {
     "data": {
      "text/plain": [
       "(<__main__.No at 0x1179487d0>, <__main__.No at 0x1179487d0>)"
      ]
     },
     "execution_count": 15,
     "metadata": {},
     "output_type": "execute_result"
    }
   ],
   "source": [
    "lista.primeiro, lista.ultimo"
   ]
  },
  {
   "cell_type": "code",
   "execution_count": 16,
   "metadata": {},
   "outputs": [
    {
     "name": "stdout",
     "output_type": "stream",
     "text": [
      "1\n",
      "2\n",
      "3\n",
      "4\n",
      "5\n"
     ]
    }
   ],
   "source": [
    "lista.insere_final(2)\n",
    "lista.insere_final(3)\n",
    "lista.insere_final(4)\n",
    "lista.insere_final(5)\n",
    "lista.mostrar()"
   ]
  },
  {
   "cell_type": "code",
   "execution_count": 17,
   "metadata": {},
   "outputs": [
    {
     "name": "stdout",
     "output_type": "stream",
     "text": [
      "0\n",
      "1\n",
      "2\n",
      "3\n",
      "4\n",
      "5\n",
      "6\n"
     ]
    }
   ],
   "source": [
    "lista.insere_inicio(0)\n",
    "lista.insere_final(6)\n",
    "lista.mostrar()"
   ]
  },
  {
   "cell_type": "markdown",
   "metadata": {},
   "source": [
    "#### Excluir inicio"
   ]
  },
  {
   "cell_type": "code",
   "execution_count": 19,
   "metadata": {},
   "outputs": [],
   "source": [
    "lista = ListaEncadeadaExtremidadeDupla()"
   ]
  },
  {
   "cell_type": "code",
   "execution_count": 20,
   "metadata": {},
   "outputs": [
    {
     "name": "stdout",
     "output_type": "stream",
     "text": [
      "1\n",
      "3\n"
     ]
    }
   ],
   "source": [
    "lista.insere_inicio(1)\n",
    "lista.insere_final(3)\n",
    "lista.mostrar()"
   ]
  },
  {
   "cell_type": "code",
   "execution_count": 21,
   "metadata": {},
   "outputs": [
    {
     "name": "stdout",
     "output_type": "stream",
     "text": [
      "3\n"
     ]
    }
   ],
   "source": [
    "lista.excluir_inicio()\n",
    "lista.mostrar()"
   ]
  },
  {
   "cell_type": "code",
   "execution_count": null,
   "metadata": {},
   "outputs": [],
   "source": []
  }
 ],
 "metadata": {
  "kernelspec": {
   "display_name": ".venv",
   "language": "python",
   "name": "python3"
  },
  "language_info": {
   "codemirror_mode": {
    "name": "ipython",
    "version": 3
   },
   "file_extension": ".py",
   "mimetype": "text/x-python",
   "name": "python",
   "nbconvert_exporter": "python",
   "pygments_lexer": "ipython3",
   "version": "3.11.4"
  }
 },
 "nbformat": 4,
 "nbformat_minor": 2
}
