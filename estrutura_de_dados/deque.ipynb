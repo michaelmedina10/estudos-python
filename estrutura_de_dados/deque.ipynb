{
 "cells": [
  {
   "cell_type": "code",
   "execution_count": 6,
   "metadata": {},
   "outputs": [],
   "source": [
    "import numpy as np"
   ]
  },
  {
   "cell_type": "code",
   "execution_count": 25,
   "metadata": {},
   "outputs": [],
   "source": [
    "class Deque:\n",
    "    def __init__(self, capacidade) -> None:\n",
    "        self.capacidade = capacidade\n",
    "        self.inicio = -1\n",
    "        self.final = 0\n",
    "        self.numero_elementos = 0\n",
    "        self.valores = np.empty(self.capacidade, dtype=int)\n",
    "\n",
    "    def __deque_cheio(self):\n",
    "        condicao = (self.inicio == 0 and self.final == self.capacidade -1) or (self.inicio == self.final + 1)\n",
    "        return condicao\n",
    "\n",
    "    def __deque_vazio(self):\n",
    "        return self.inicio == -1\n",
    "\n",
    "    def insere_inicio(self, valor):\n",
    "        if self.__deque_cheio():\n",
    "            print(\"O deque está cheio\")\n",
    "            return\n",
    "\n",
    "        # Se estiver vazio\n",
    "        if self.__deque_vazio():\n",
    "            self.inicio = 0\n",
    "            self.final = 0\n",
    "        # Se inicio estiver na primeira posição\n",
    "        elif self.inicio == 0:\n",
    "            self.inicio = self.capacidade -1\n",
    "        else:\n",
    "            self.inicio -= 1\n",
    "\n",
    "        self.valores[self.inicio] = valor\n",
    "\n",
    "    def insere_final(self, valor):\n",
    "        if self.__deque_cheio():\n",
    "            print(\"O deque está cheio\")\n",
    "            return\n",
    "        # Se estiver vazio\n",
    "        if self.__deque_vazio():\n",
    "            self.inicio = 0\n",
    "            self.final = 0\n",
    "        # Se final estiver na última posição\n",
    "        elif self.final == self.capacidade -1:\n",
    "            self.final = 0\n",
    "        else:\n",
    "            self.final += 1\n",
    "        self.valores[self.final] = valor\n",
    "\n",
    "    def excluir_inicio(self):\n",
    "        if self.__deque_vazio():\n",
    "            print(\"O deque está vazio\")\n",
    "            return\n",
    "        # Possui somente um elemento\n",
    "        if self.inicio == self.final:\n",
    "            self.inicio = -1\n",
    "            self.final = -1\n",
    "\n",
    "        else:\n",
    "            # Volta para posicao inicial\n",
    "            if self.inicio == self.capacidade -1:\n",
    "                self.inicio = 0\n",
    "            else:\n",
    "                # Incrementa inicio para remover inicio atual\n",
    "                self.inicio +=1\n",
    "\n",
    "    def excluir_final(self):\n",
    "        if self.__deque_cheio():\n",
    "            print(\"O deque está cheio\")\n",
    "            return\n",
    "\n",
    "        # Possui somente um elemento\n",
    "        if self.inicio == self.final:\n",
    "            self.inicio = -1\n",
    "            self.final = -1\n",
    "        elif self.inicio == 0:\n",
    "            self.final = self.capacidade -1\n",
    "        else:\n",
    "            self.final -= 1\n",
    "\n",
    "    def get_inicio(self):\n",
    "        if self.__deque_cheio():\n",
    "            print(\"O deque está cheio\")\n",
    "            return\n",
    "        return self.valores[self.inicio]\n",
    "\n",
    "    def get_final(self):\n",
    "        if self.__deque_cheio() or self.final < 0:\n",
    "            print(\"O deque está cheio\")\n",
    "            return\n",
    "        return self.valores[self.final]"
   ]
  },
  {
   "cell_type": "code",
   "execution_count": 26,
   "metadata": {},
   "outputs": [],
   "source": [
    "deque = Deque(5)"
   ]
  },
  {
   "cell_type": "code",
   "execution_count": 27,
   "metadata": {},
   "outputs": [
    {
     "data": {
      "text/plain": [
       "(5, 5)"
      ]
     },
     "execution_count": 27,
     "metadata": {},
     "output_type": "execute_result"
    }
   ],
   "source": [
    "deque.insere_final(5)\n",
    "deque.get_inicio(), deque.get_final()"
   ]
  },
  {
   "cell_type": "code",
   "execution_count": 28,
   "metadata": {},
   "outputs": [
    {
     "data": {
      "text/plain": [
       "(5, 10)"
      ]
     },
     "execution_count": 28,
     "metadata": {},
     "output_type": "execute_result"
    }
   ],
   "source": [
    "# 5 10\n",
    "deque.insere_final(10)\n",
    "deque.get_inicio(), deque.get_final()"
   ]
  },
  {
   "cell_type": "code",
   "execution_count": 29,
   "metadata": {},
   "outputs": [
    {
     "data": {
      "text/plain": [
       "(3, 10)"
      ]
     },
     "execution_count": 29,
     "metadata": {},
     "output_type": "execute_result"
    }
   ],
   "source": [
    "# 3 5 10\n",
    "deque.insere_inicio(3)\n",
    "deque.get_inicio(), deque.get_final()"
   ]
  },
  {
   "cell_type": "code",
   "execution_count": 30,
   "metadata": {},
   "outputs": [],
   "source": [
    "deque.insere_inicio(2)\n",
    "deque.insere_final(11)"
   ]
  },
  {
   "cell_type": "code",
   "execution_count": 31,
   "metadata": {},
   "outputs": [
    {
     "name": "stdout",
     "output_type": "stream",
     "text": [
      "O deque está cheio\n",
      "O deque está cheio\n"
     ]
    },
    {
     "data": {
      "text/plain": [
       "(None, None)"
      ]
     },
     "execution_count": 31,
     "metadata": {},
     "output_type": "execute_result"
    }
   ],
   "source": [
    "deque.get_inicio(), deque.get_final()"
   ]
  },
  {
   "cell_type": "code",
   "execution_count": null,
   "metadata": {},
   "outputs": [],
   "source": []
  }
 ],
 "metadata": {
  "kernelspec": {
   "display_name": ".venv",
   "language": "python",
   "name": "python3"
  },
  "language_info": {
   "codemirror_mode": {
    "name": "ipython",
    "version": 3
   },
   "file_extension": ".py",
   "mimetype": "text/x-python",
   "name": "python",
   "nbconvert_exporter": "python",
   "pygments_lexer": "ipython3",
   "version": "3.11.4"
  }
 },
 "nbformat": 4,
 "nbformat_minor": 2
}
