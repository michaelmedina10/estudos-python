{
 "cells": [
  {
   "cell_type": "code",
   "execution_count": 4,
   "metadata": {},
   "outputs": [
    {
     "name": "stdout",
     "output_type": "stream",
     "text": [
      "[ 1  2  3  4  5  6  7  8  9 10]\n",
      "**********\n",
      "[ 1  2  3  4  5  6  7  8  9 10]\n"
     ]
    }
   ],
   "source": [
    "import numpy as np\n",
    "\n",
    "def insertion_sort(vetor):\n",
    "\n",
    "    n = len(vetor)\n",
    "    for i in range(1, n):\n",
    "        marcado = vetor[i]\n",
    "        j = i - 1\n",
    "        while j >= 0 and marcado < vetor[j]:\n",
    "            vetor[j + 1] = vetor[j]\n",
    "            j -= 1\n",
    "        vetor[j + 1] = marcado\n",
    "    return vetor\n",
    "\n",
    "vetor = np.array([10, 9, 8, 7, 6, 5, 4, 3, 2, 1])\n",
    "vetor_ordenado = insertion_sort(vetor)\n",
    "\n",
    "## Só parenteses na forma feita pelo curso, o ponteiro aponta para o msm endereço de memória, modificando ambos.\n",
    "print(vetor)\n",
    "print(\"*\" * 10)\n",
    "print(vetor_ordenado)"
   ]
  },
  {
   "cell_type": "code",
   "execution_count": null,
   "metadata": {},
   "outputs": [],
   "source": []
  }
 ],
 "metadata": {
  "kernelspec": {
   "display_name": ".venv",
   "language": "python",
   "name": "python3"
  },
  "language_info": {
   "codemirror_mode": {
    "name": "ipython",
    "version": 3
   },
   "file_extension": ".py",
   "mimetype": "text/x-python",
   "name": "python",
   "nbconvert_exporter": "python",
   "pygments_lexer": "ipython3",
   "version": "3.11.4"
  }
 },
 "nbformat": 4,
 "nbformat_minor": 2
}
