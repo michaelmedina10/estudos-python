{
 "cells": [
  {
   "cell_type": "code",
   "execution_count": 1,
   "metadata": {},
   "outputs": [],
   "source": [
    "class No:\n",
    "    def __init__(self, valor) -> None:\n",
    "        self.valor = valor\n",
    "        self.proximo = None\n",
    "\n",
    "    def mostra_no(self):\n",
    "        print(self.valor)"
   ]
  },
  {
   "cell_type": "code",
   "execution_count": 26,
   "metadata": {},
   "outputs": [],
   "source": [
    "class ListaEncadeada:\n",
    "    def __init__(self) -> None:\n",
    "        # cabeça da lista que aponta para o primeiro item\n",
    "        self.primeiro = None\n",
    "\n",
    "    def insere_inicio(self, valor):\n",
    "        novo = No(valor)\n",
    "        # Apontando o novo valor para o primeiro valor da lista\n",
    "        novo.proximo = self.primeiro\n",
    "        # Atualizando o primeiro para esse novo nó criado\n",
    "        self.primeiro = novo\n",
    "\n",
    "    def mostrar(self):\n",
    "\n",
    "        if self.primeiro is None:\n",
    "            print(\"A lista esta vazia\")\n",
    "            return None\n",
    "\n",
    "        atual = self.primeiro\n",
    "        while atual != None:\n",
    "            atual.mostra_no()\n",
    "            atual = atual.proximo\n",
    "\n",
    "    def pesquisar(self, valor):\n",
    "\n",
    "        if self.primeiro is None:\n",
    "            print(\"A lista esta vazia\")\n",
    "            return None\n",
    "\n",
    "        atual = self.primeiro\n",
    "        while atual.valor != valor:\n",
    "            if atual.proximo is None:\n",
    "                return None\n",
    "            else:\n",
    "                atual = atual.proximo\n",
    "        return atual\n",
    "\n",
    "    def excluir_inicio(self):\n",
    "\n",
    "        if self.primeiro is None:\n",
    "            print(\"A lista esta vazia\")\n",
    "            return None\n",
    "\n",
    "        temp = self.primeiro\n",
    "        self.primeiro = self.primeiro.proximo\n",
    "        return temp\n",
    "\n",
    "    def excluir_posicao(self, valor):\n",
    "\n",
    "        if self.primeiro is None:\n",
    "            print(\"A lista esta vazia\")\n",
    "            return None\n",
    "\n",
    "        atual = self.primeiro\n",
    "        anterior = self.primeiro\n",
    "\n",
    "        while atual.valor != valor:\n",
    "            if atual.proximo is None:\n",
    "                return None\n",
    "            else:\n",
    "                anterior = atual\n",
    "                atual = atual.proximo\n",
    "\n",
    "        if atual == self.primeiro:\n",
    "            self.primeiro = self.primeiro.proximo\n",
    "        else:\n",
    "            anterior.proximo = atual.proximo\n",
    "\n",
    "        return atual\n"
   ]
  },
  {
   "cell_type": "markdown",
   "metadata": {},
   "source": [
    "#### Insere Inicio"
   ]
  },
  {
   "cell_type": "code",
   "execution_count": null,
   "metadata": {},
   "outputs": [],
   "source": [
    "lista = ListaEncadeada()\n",
    "lista.insere_inicio(1)\n",
    "lista.mostrar()"
   ]
  },
  {
   "cell_type": "code",
   "execution_count": null,
   "metadata": {},
   "outputs": [],
   "source": [
    "lista.primeiro"
   ]
  },
  {
   "cell_type": "code",
   "execution_count": null,
   "metadata": {},
   "outputs": [],
   "source": [
    "lista.insere_inicio(2)\n",
    "lista.mostrar()"
   ]
  },
  {
   "cell_type": "code",
   "execution_count": null,
   "metadata": {},
   "outputs": [],
   "source": [
    "lista.insere_inicio(3)\n",
    "lista.insere_inicio(4)\n",
    "lista.insere_inicio(5)\n",
    "lista.mostrar()"
   ]
  },
  {
   "cell_type": "code",
   "execution_count": null,
   "metadata": {},
   "outputs": [],
   "source": [
    "lista.primeiro.mostra_no()"
   ]
  },
  {
   "cell_type": "code",
   "execution_count": null,
   "metadata": {},
   "outputs": [],
   "source": []
  },
  {
   "cell_type": "markdown",
   "metadata": {},
   "source": [
    "#### Exclui Inicio"
   ]
  },
  {
   "cell_type": "code",
   "execution_count": null,
   "metadata": {},
   "outputs": [],
   "source": [
    "lista = ListaEncadeada()\n",
    "lista.insere_inicio(1)\n",
    "lista.insere_inicio(2)\n",
    "lista.insere_inicio(3)\n",
    "lista.insere_inicio(4)\n",
    "lista.insere_inicio(5)\n",
    "lista.mostrar()"
   ]
  },
  {
   "cell_type": "code",
   "execution_count": null,
   "metadata": {},
   "outputs": [],
   "source": [
    "lista.excluir_inicio()\n",
    "lista.mostrar()"
   ]
  },
  {
   "cell_type": "code",
   "execution_count": null,
   "metadata": {},
   "outputs": [],
   "source": [
    "lista.excluir_inicio()\n",
    "lista.excluir_inicio()\n",
    "lista.excluir_inicio()\n",
    "lista.mostrar()"
   ]
  },
  {
   "cell_type": "code",
   "execution_count": null,
   "metadata": {},
   "outputs": [],
   "source": [
    "lista.excluir_inicio()"
   ]
  },
  {
   "cell_type": "code",
   "execution_count": null,
   "metadata": {},
   "outputs": [],
   "source": [
    "lista.mostrar()"
   ]
  },
  {
   "cell_type": "markdown",
   "metadata": {},
   "source": [
    "#### Pesquisar"
   ]
  },
  {
   "cell_type": "code",
   "execution_count": 20,
   "metadata": {},
   "outputs": [
    {
     "name": "stdout",
     "output_type": "stream",
     "text": [
      "5\n",
      "4\n",
      "3\n",
      "2\n",
      "1\n"
     ]
    }
   ],
   "source": [
    "lista = ListaEncadeada()\n",
    "lista.insere_inicio(1)\n",
    "lista.insere_inicio(2)\n",
    "lista.insere_inicio(3)\n",
    "lista.insere_inicio(4)\n",
    "lista.insere_inicio(5)\n",
    "lista.mostrar()"
   ]
  },
  {
   "cell_type": "code",
   "execution_count": 25,
   "metadata": {},
   "outputs": [
    {
     "name": "stdout",
     "output_type": "stream",
     "text": [
      "Valor não encontrado\n"
     ]
    }
   ],
   "source": [
    "pesquisa_result = (lista.pesquisar(10))\n",
    "if pesquisa_result is not None:\n",
    "    print(pesquisa_result.valor)\n",
    "else:\n",
    "    print(\"Valor não encontrado\")"
   ]
  },
  {
   "cell_type": "markdown",
   "metadata": {},
   "source": [
    "#### Excluir posição"
   ]
  },
  {
   "cell_type": "code",
   "execution_count": 27,
   "metadata": {},
   "outputs": [
    {
     "name": "stdout",
     "output_type": "stream",
     "text": [
      "5\n",
      "4\n",
      "3\n",
      "2\n",
      "1\n"
     ]
    }
   ],
   "source": [
    "lista = ListaEncadeada()\n",
    "lista.insere_inicio(1)\n",
    "lista.insere_inicio(2)\n",
    "lista.insere_inicio(3)\n",
    "lista.insere_inicio(4)\n",
    "lista.insere_inicio(5)\n",
    "lista.mostrar()"
   ]
  },
  {
   "cell_type": "code",
   "execution_count": 28,
   "metadata": {},
   "outputs": [
    {
     "name": "stdout",
     "output_type": "stream",
     "text": [
      "5\n",
      "4\n",
      "2\n",
      "1\n"
     ]
    }
   ],
   "source": [
    "lista.excluir_posicao(3)\n",
    "lista.mostrar()"
   ]
  },
  {
   "cell_type": "code",
   "execution_count": 29,
   "metadata": {},
   "outputs": [
    {
     "name": "stdout",
     "output_type": "stream",
     "text": [
      "5\n",
      "4\n",
      "2\n"
     ]
    }
   ],
   "source": [
    "lista.excluir_posicao(1)\n",
    "lista.mostrar()"
   ]
  },
  {
   "cell_type": "code",
   "execution_count": 30,
   "metadata": {},
   "outputs": [
    {
     "name": "stdout",
     "output_type": "stream",
     "text": [
      "4\n",
      "2\n"
     ]
    }
   ],
   "source": [
    "lista.excluir_posicao(5)\n",
    "lista.mostrar()"
   ]
  },
  {
   "cell_type": "code",
   "execution_count": 31,
   "metadata": {},
   "outputs": [
    {
     "name": "stdout",
     "output_type": "stream",
     "text": [
      "4\n",
      "2\n"
     ]
    }
   ],
   "source": [
    "lista.excluir_posicao(10)\n",
    "lista.mostrar()"
   ]
  },
  {
   "cell_type": "markdown",
   "metadata": {},
   "source": []
  }
 ],
 "metadata": {
  "kernelspec": {
   "display_name": ".venv",
   "language": "python",
   "name": "python3"
  },
  "language_info": {
   "codemirror_mode": {
    "name": "ipython",
    "version": 3
   },
   "file_extension": ".py",
   "mimetype": "text/x-python",
   "name": "python",
   "nbconvert_exporter": "python",
   "pygments_lexer": "ipython3",
   "version": "3.11.4"
  }
 },
 "nbformat": 4,
 "nbformat_minor": 2
}
