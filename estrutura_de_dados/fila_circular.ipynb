{
 "cells": [
  {
   "cell_type": "code",
   "execution_count": 1,
   "metadata": {},
   "outputs": [],
   "source": [
    "import numpy as np"
   ]
  },
  {
   "cell_type": "code",
   "execution_count": 2,
   "metadata": {},
   "outputs": [],
   "source": [
    "class FilaCircular:\n",
    "    def __init__(self, capacidade) -> None:\n",
    "        self.capacidade = capacidade\n",
    "        self.inicio = 0\n",
    "        self.final = -1\n",
    "        self.numero_elementos = 0\n",
    "        self.valores = np.empty(self.capacidade, dtype=int)\n",
    "\n",
    "    def __fila_vazia(self):\n",
    "        return self.numero_elementos == 0\n",
    "\n",
    "    def __fila_cheia(self):\n",
    "        return self.numero_elementos == self.capacidade\n",
    "\n",
    "    def enfileirar(self, valor):\n",
    "        if self.__fila_cheia():\n",
    "            print(\"A fila está cheia\")\n",
    "            return\n",
    "\n",
    "        # Se o ponteiro final está no último indice\n",
    "        if self.final == self.capacidade -1:\n",
    "            # Volta para o inicio\n",
    "            self.final = -1\n",
    "        self.final += 1\n",
    "        self.valores[self.final] = valor\n",
    "        self.numero_elementos +=1\n",
    "\n",
    "    def desenfileirar(self):\n",
    "        if self.__fila_vazia():\n",
    "            print(\"A fila ja está vazia\")\n",
    "            return\n",
    "\n",
    "        temp = self.valores[self.inicio]\n",
    "        self.inicio += 1\n",
    "\n",
    "        # Se o ponteiro final está no último indice\n",
    "        if self.inicio == self.capacidade -1:\n",
    "            self.inicio = 0\n",
    "\n",
    "        self.numero_elementos -= 1\n",
    "        return temp\n",
    "\n",
    "    def primeiro(self):\n",
    "        if self.__fila_vazia():\n",
    "            return -1\n",
    "        return self.valores[self.inicio]"
   ]
  },
  {
   "cell_type": "code",
   "execution_count": 3,
   "metadata": {},
   "outputs": [],
   "source": [
    "fila = FilaCircular(5)"
   ]
  },
  {
   "cell_type": "code",
   "execution_count": 4,
   "metadata": {},
   "outputs": [
    {
     "data": {
      "text/plain": [
       "-1"
      ]
     },
     "execution_count": 4,
     "metadata": {},
     "output_type": "execute_result"
    }
   ],
   "source": [
    "fila.primeiro()"
   ]
  },
  {
   "cell_type": "code",
   "execution_count": 5,
   "metadata": {},
   "outputs": [
    {
     "data": {
      "text/plain": [
       "1"
      ]
     },
     "execution_count": 5,
     "metadata": {},
     "output_type": "execute_result"
    }
   ],
   "source": [
    "fila.enfileirar(1)\n",
    "fila.primeiro()"
   ]
  },
  {
   "cell_type": "code",
   "execution_count": 6,
   "metadata": {},
   "outputs": [
    {
     "data": {
      "text/plain": [
       "1"
      ]
     },
     "execution_count": 6,
     "metadata": {},
     "output_type": "execute_result"
    }
   ],
   "source": [
    "# 2 1\n",
    "fila.enfileirar(2)\n",
    "fila.primeiro()"
   ]
  },
  {
   "cell_type": "code",
   "execution_count": 7,
   "metadata": {},
   "outputs": [],
   "source": [
    "# 5 4 3 2 1\n",
    "fila.enfileirar(3)\n",
    "fila.enfileirar(4)\n",
    "fila.enfileirar(5)"
   ]
  },
  {
   "cell_type": "code",
   "execution_count": 8,
   "metadata": {},
   "outputs": [
    {
     "name": "stdout",
     "output_type": "stream",
     "text": [
      "A fila está cheia\n"
     ]
    }
   ],
   "source": [
    "fila.enfileirar(6)"
   ]
  },
  {
   "cell_type": "code",
   "execution_count": 9,
   "metadata": {},
   "outputs": [
    {
     "data": {
      "text/plain": [
       "3"
      ]
     },
     "execution_count": 9,
     "metadata": {},
     "output_type": "execute_result"
    }
   ],
   "source": [
    "# 5 4 3\n",
    "fila.desenfileirar()\n",
    "fila.desenfileirar()\n",
    "fila.primeiro()"
   ]
  },
  {
   "cell_type": "code",
   "execution_count": 10,
   "metadata": {},
   "outputs": [
    {
     "data": {
      "text/plain": [
       "<bound method FilaCircular.primeiro of <__main__.FilaCircular object at 0x10918d510>>"
      ]
     },
     "execution_count": 10,
     "metadata": {},
     "output_type": "execute_result"
    }
   ],
   "source": [
    "# 7 6 5 4 3\n",
    "fila.enfileirar(6)\n",
    "fila.enfileirar(7)\n"
   ]
  },
  {
   "cell_type": "code",
   "execution_count": 11,
   "metadata": {},
   "outputs": [
    {
     "data": {
      "text/plain": [
       "3"
      ]
     },
     "execution_count": 11,
     "metadata": {},
     "output_type": "execute_result"
    }
   ],
   "source": [
    "fila.primeiro()"
   ]
  },
  {
   "cell_type": "code",
   "execution_count": 12,
   "metadata": {},
   "outputs": [
    {
     "data": {
      "text/plain": [
       "array([6, 7, 3, 4, 5])"
      ]
     },
     "execution_count": 12,
     "metadata": {},
     "output_type": "execute_result"
    }
   ],
   "source": [
    "fila.valores"
   ]
  },
  {
   "cell_type": "code",
   "execution_count": 13,
   "metadata": {},
   "outputs": [
    {
     "data": {
      "text/plain": [
       "7"
      ]
     },
     "execution_count": 13,
     "metadata": {},
     "output_type": "execute_result"
    }
   ],
   "source": [
    "fila.valores[fila.final]"
   ]
  },
  {
   "cell_type": "code",
   "execution_count": 14,
   "metadata": {},
   "outputs": [
    {
     "data": {
      "text/plain": [
       "3"
      ]
     },
     "execution_count": 14,
     "metadata": {},
     "output_type": "execute_result"
    }
   ],
   "source": [
    "fila.valores[fila.inicio]"
   ]
  },
  {
   "cell_type": "code",
   "execution_count": null,
   "metadata": {},
   "outputs": [],
   "source": []
  }
 ],
 "metadata": {
  "kernelspec": {
   "display_name": ".venv",
   "language": "python",
   "name": "python3"
  },
  "language_info": {
   "codemirror_mode": {
    "name": "ipython",
    "version": 3
   },
   "file_extension": ".py",
   "mimetype": "text/x-python",
   "name": "python",
   "nbconvert_exporter": "python",
   "pygments_lexer": "ipython3",
   "version": "3.11.4"
  }
 },
 "nbformat": 4,
 "nbformat_minor": 2
}
