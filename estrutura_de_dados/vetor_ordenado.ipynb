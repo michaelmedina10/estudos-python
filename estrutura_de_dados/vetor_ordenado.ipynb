{
 "cells": [
  {
   "cell_type": "markdown",
   "metadata": {},
   "source": [
    "#### Vetor não ordenado"
   ]
  },
  {
   "cell_type": "code",
   "execution_count": 3,
   "metadata": {},
   "outputs": [],
   "source": [
    "import numpy as np"
   ]
  },
  {
   "cell_type": "code",
   "execution_count": 21,
   "metadata": {},
   "outputs": [],
   "source": [
    "class VetorOrdenado:\n",
    "    def __init__(self, capacidade):\n",
    "        self.capacidade = capacidade\n",
    "        self.ultima_posicao = -1\n",
    "        self.valores = np.empty(self.capacidade, dtype=int)\n",
    "\n",
    "    # O(n)\n",
    "    def imprime(self):\n",
    "        if self.ultima_posicao == -1:\n",
    "            print(\"Vetor está vazio!!!\")\n",
    "        else:\n",
    "            for i in range(self.ultima_posicao + 1):\n",
    "                print(f\"{i} - {self.valores[i]}\")\n",
    "\n",
    "    # O(n)\n",
    "    def insere(self, valor):\n",
    "        if self.ultima_posicao == self.capacidade -1:\n",
    "            print(\"Capacidade máxima atingida!!!\")\n",
    "            return\n",
    "\n",
    "        # posicao que devo colocar meu novo valo\n",
    "        posicao = 0\n",
    "        for i in range(self.ultima_posicao + 1):\n",
    "            posicao = i\n",
    "            if self.valores[i] > valor:\n",
    "                break\n",
    "            if i == self.ultima_posicao:\n",
    "                posicao += 1\n",
    "\n",
    "        # remanejando os valores para uma nova posicao\n",
    "        x = self.ultima_posicao\n",
    "        while x >= posicao:\n",
    "            self.valores[x + 1] = self.valores[x]\n",
    "            x -= 1\n",
    "\n",
    "        # adicionando novo valor\n",
    "        self.valores[posicao] = valor\n",
    "        self.ultima_posicao += 1\n",
    "\n",
    "    # O(n)\n",
    "    def pesquisa_linear(self, valor):\n",
    "        for i in range(self.ultima_posicao + 1):\n",
    "            if self.valores[i] == valor:\n",
    "                return i\n",
    "            if self.valores[i] > valor or i == self.ultima_posicao:\n",
    "                return -1\n",
    "\n",
    "    # O(log n) -> não trabalha com a base de dados inteira, \"quebra ela\"\n",
    "    def pesquisa_binaria(self, valor):\n",
    "        limite_inferior = 0\n",
    "        limite_superior = self.ultima_posicao\n",
    "\n",
    "        while True:\n",
    "            posicao_atual = int((limite_inferior + limite_superior) / 2)\n",
    "\n",
    "            # Melhor caso, primeira tentativa\n",
    "            if self.valores[posicao_atual] == valor:\n",
    "                return posicao_atual\n",
    "\n",
    "            # Pior caso, valor não existe\n",
    "            elif limite_inferior > limite_superior:\n",
    "                return -1\n",
    "\n",
    "            else:\n",
    "                if self.valores[posicao_atual] < valor:\n",
    "                    limite_inferior = posicao_atual + 1\n",
    "                else:\n",
    "                    limite_superior = posicao_atual - 1\n",
    "\n",
    "    def excluir(self, valor):\n",
    "        indice = self.pesquisar(valor)\n",
    "        if indice == -1:\n",
    "            return -1\n",
    "        else:\n",
    "            for i in range(indice, self.ultima_posicao):\n",
    "                self.valores[i] = self.valores[i + 1]\n",
    "            self.ultima_posicao -= 1"
   ]
  },
  {
   "cell_type": "code",
   "execution_count": 11,
   "metadata": {},
   "outputs": [
    {
     "name": "stdout",
     "output_type": "stream",
     "text": [
      "Vetor está vazio!!!\n"
     ]
    }
   ],
   "source": [
    "vetor = VetorOrdenado(10)\n",
    "vetor.imprime()"
   ]
  },
  {
   "cell_type": "code",
   "execution_count": 12,
   "metadata": {},
   "outputs": [
    {
     "name": "stdout",
     "output_type": "stream",
     "text": [
      "0 - 1\n",
      "1 - 4\n",
      "2 - 5\n",
      "3 - 6\n",
      "4 - 7\n",
      "5 - 8\n"
     ]
    }
   ],
   "source": [
    "vetor.insere(6)\n",
    "vetor.insere(4)\n",
    "vetor.insere(7)\n",
    "vetor.insere(5)\n",
    "vetor.insere(1)\n",
    "vetor.insere(8)\n",
    "\n",
    "\n",
    "vetor.imprime()"
   ]
  },
  {
   "cell_type": "code",
   "execution_count": 13,
   "metadata": {},
   "outputs": [
    {
     "name": "stdout",
     "output_type": "stream",
     "text": [
      "1\n"
     ]
    }
   ],
   "source": [
    "print(vetor.pesquisa_linear(4))"
   ]
  },
  {
   "cell_type": "code",
   "execution_count": 14,
   "metadata": {},
   "outputs": [
    {
     "name": "stdout",
     "output_type": "stream",
     "text": [
      "0 - 4\n",
      "1 - 6\n",
      "2 - 7\n"
     ]
    }
   ],
   "source": [
    "vetor.excluir(5)\n",
    "vetor.excluir(1)\n",
    "vetor.excluir(8)\n",
    "\n",
    "vetor.imprime()"
   ]
  },
  {
   "cell_type": "code",
   "execution_count": 15,
   "metadata": {},
   "outputs": [
    {
     "name": "stdout",
     "output_type": "stream",
     "text": [
      "0 - 1\n",
      "1 - 2\n",
      "2 - 5\n",
      "3 - 7\n",
      "4 - 9\n",
      "5 - 10\n"
     ]
    }
   ],
   "source": [
    "# pesquisa binaria\n",
    "vetor_binario = VetorOrdenado(10)\n",
    "vetor_binario.insere(5)\n",
    "vetor_binario.insere(1)\n",
    "vetor_binario.insere(2)\n",
    "vetor_binario.insere(7)\n",
    "vetor_binario.insere(9)\n",
    "vetor_binario.insere(10)\n",
    "vetor_binario.imprime()"
   ]
  },
  {
   "cell_type": "code",
   "execution_count": 20,
   "metadata": {},
   "outputs": [
    {
     "name": "stdout",
     "output_type": "stream",
     "text": [
      "0\n"
     ]
    }
   ],
   "source": [
    "print(vetor_binario.pesquisa_binaria(1))"
   ]
  },
  {
   "cell_type": "code",
   "execution_count": 22,
   "metadata": {},
   "outputs": [
    {
     "data": {
      "text/plain": [
       "2"
      ]
     },
     "execution_count": 22,
     "metadata": {},
     "output_type": "execute_result"
    }
   ],
   "source": [
    "int(5/2)"
   ]
  },
  {
   "cell_type": "code",
   "execution_count": null,
   "metadata": {},
   "outputs": [],
   "source": []
  }
 ],
 "metadata": {
  "kernelspec": {
   "display_name": ".venv",
   "language": "python",
   "name": "python3"
  },
  "language_info": {
   "codemirror_mode": {
    "name": "ipython",
    "version": 3
   },
   "file_extension": ".py",
   "mimetype": "text/x-python",
   "name": "python",
   "nbconvert_exporter": "python",
   "pygments_lexer": "ipython3",
   "version": "3.11.4"
  }
 },
 "nbformat": 4,
 "nbformat_minor": 2
}
